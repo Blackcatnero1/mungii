{
 "cells": [
  {
   "cell_type": "code",
   "execution_count": 3,
   "metadata": {},
   "outputs": [],
   "source": [
    "import pandas as pd\n",
    "\n",
    "# Load the data\n",
    "liaocheng_air_quality = pd.read_csv('../랴오청대기질.csv', encoding='cp949')\n",
    "seoul_weather = pd.read_csv('../서울날씨.csv', encoding='cp949')\n",
    "seoul_air_quality = pd.read_csv('../서울대기질.csv', encoding='cp949')\n",
    "\n",
    "# Replace blank spaces with NaN\n",
    "liaocheng_air_quality.replace(' ', pd.NA, inplace=True)\n",
    "seoul_air_quality.replace(' ', pd.NA, inplace=True)\n",
    "\n",
    "# Convert date columns to datetime format\n",
    "liaocheng_air_quality['date'] = pd.to_datetime(liaocheng_air_quality['date'])\n",
    "seoul_air_quality['date'] = pd.to_datetime(seoul_air_quality['date'], format='%Y/%m/%d')\n",
    "seoul_weather['일시'] = pd.to_datetime(seoul_weather['일시'])\n",
    "\n",
    "seoul_weather.fillna(0, inplace=True)\n",
    "\n",
    "# Convert other columns to numeric\n",
    "liaocheng_air_quality.iloc[:, 1:] = liaocheng_air_quality.iloc[:, 1:].apply(pd.to_numeric)\n",
    "seoul_air_quality.iloc[:, 1:] = seoul_air_quality.iloc[:, 1:].apply(pd.to_numeric)\n"
   ]
  },
  {
   "cell_type": "code",
   "execution_count": null,
   "metadata": {},
   "outputs": [],
   "source": [
    "# Merge air quality data on date\n",
    "combined_data = pd.merge(liaocheng_air_quality, seoul_air_quality, on='date', suffixes=('_liaocheng', '_seoul'))\n",
    "\n",
    "# Merge the combined data with weather data\n",
    "final_data = pd.merge(combined_data, seoul_weather, left_on='date', right_on='일시')\n",
    "\n",
    "# Drop the duplicate date column\n",
    "final_data.drop(columns=['일시'], inplace=True)\n",
    "\n",
    "# Display the combined data\n",
    "final_data.head()\n"
   ]
  },
  {
   "cell_type": "code",
   "execution_count": 15,
   "metadata": {},
   "outputs": [
    {
     "name": "stderr",
     "output_type": "stream",
     "text": [
      "C:\\Users\\SUB\\AppData\\Local\\Temp\\ipykernel_13900\\3515970048.py:6: FutureWarning: DataFrame.fillna with 'method' is deprecated and will raise in a future version. Use obj.ffill() or obj.bfill() instead.\n",
      "  final_data.fillna(method='ffill', inplace=True)\n"
     ]
    },
    {
     "name": "stdout",
     "output_type": "stream",
     "text": [
      "결정계수 (R²): -0.0942\n"
     ]
    },
    {
     "data": {
      "text/plain": [
       "2096    50.901398\n",
       "2097    63.412643\n",
       "2098    68.264359\n",
       "2099    61.391255\n",
       "2100    69.679958\n",
       "Name: predicted_mean, dtype: float64"
      ]
     },
     "execution_count": 15,
     "metadata": {},
     "output_type": "execute_result"
    }
   ],
   "source": [
    "import statsmodels.api as sm\n",
    "from statsmodels.tsa.statespace.sarimax import SARIMAX\n",
    "from sklearn.metrics import r2_score\n",
    "\n",
    "# NaN 값을 앞의 값으로 채우기\n",
    "final_data.fillna(method='ffill', inplace=True)\n",
    "\n",
    "# SARIMA 모델 적합\n",
    "model = SARIMAX(final_data[' pm25_seoul'], order=(1, 1, 1), seasonal_order=(1, 1, 1, 12), \n",
    "                exog=final_data[[' pm25_liaocheng', '평균기온(℃)', '평균풍속(m/s)', '강수량(mm)']])\n",
    "results = model.fit()\n",
    "\n",
    "# 예측할 기간 설정 (사용자가 선택)\n",
    "forecast_steps = 30  # 예측할 기간을 일수로 지정 (여기서는 30일로 예시)\n",
    "forecast = results.get_forecast(steps=forecast_steps, exog=final_data[[' pm25_liaocheng', '평균기온(℃)', '평균풍속(m/s)', '강수량(mm)']].iloc[-forecast_steps:])\n",
    "predicted_mean = forecast.predicted_mean\n",
    "conf_int = forecast.conf_int()\n",
    "\n",
    "# 결정계수(R²) 계산\n",
    "actual_values = final_data[' pm25_seoul'].iloc[-forecast_steps:]\n",
    "r_squared = r2_score(actual_values, predicted_mean)\n",
    "\n",
    "# 결정계수 출력\n",
    "print(f'결정계수 (R²): {r_squared:.4f}')\n",
    "\n",
    "# 예측된 값 표시\n",
    "predicted_mean.head()\n"
   ]
  },
  {
   "cell_type": "code",
   "execution_count": 22,
   "metadata": {},
   "outputs": [
    {
     "name": "stderr",
     "output_type": "stream",
     "text": [
      "C:\\Users\\SUB\\AppData\\Local\\Temp\\ipykernel_13900\\1121983563.py:7: FutureWarning: DataFrame.fillna with 'method' is deprecated and will raise in a future version. Use obj.ffill() or obj.bfill() instead.\n",
      "  final_data.fillna(method='ffill', inplace=True)\n",
      "c:\\ProgramData\\anaconda3\\envs\\py310\\lib\\site-packages\\statsmodels\\tsa\\base\\tsa_model.py:473: ValueWarning: An unsupported index was provided and will be ignored when e.g. forecasting.\n",
      "  self._init_dates(dates, freq)\n",
      "c:\\ProgramData\\anaconda3\\envs\\py310\\lib\\site-packages\\statsmodels\\tsa\\base\\tsa_model.py:473: ValueWarning: An unsupported index was provided and will be ignored when e.g. forecasting.\n",
      "  self._init_dates(dates, freq)\n"
     ]
    }
   ],
   "source": [
    "import statsmodels.api as sm\n",
    "from statsmodels.tsa.statespace.sarimax import SARIMAX\n",
    "from sklearn.metrics import r2_score\n",
    "import matplotlib.pyplot as plt\n",
    "\n",
    "# NaN 값을 앞의 값으로 채우기\n",
    "final_data.fillna(method='ffill', inplace=True)\n",
    "\n",
    "# 예측할 특정 날짜와 예측 기간을 입력 받기\n",
    "predict_from_date = '2023-07-01'  # 예측 시작 날짜 (예시: 2023년 7월 1일)\n",
    "predict_from_date = pd.to_datetime(predict_from_date)\n",
    "forecast_days = 30  # 예측할 일수 (예시: 30일)\n",
    "\n",
    "# 특정 날짜까지의 데이터만 사용\n",
    "train_data = final_data[final_data['date'] <= predict_from_date]\n",
    "\n",
    "# SARIMA 모델 적합\n",
    "model = SARIMAX(train_data[' pm25_seoul'], order=(1, 1, 1), seasonal_order=(1, 1, 1, 12), \n",
    "                exog=train_data[[' pm25_liaocheng', '평균기온(℃)', '평균풍속(m/s)', '강수량(mm)']])\n",
    "results = model.fit()\n",
    "\n",
    "# 특정 날짜 이후의 데이터로 예측\n",
    "exog_future = final_data[final_data['date'] > predict_from_date][[' pm25_liaocheng', '평균기온(℃)', '평균풍속(m/s)', '강수량(mm)']].iloc[:forecast_days]\n",
    "if exog_future.shape[0] < forecast_days:\n",
    "    raise ValueError(f\"외생 변수 데이터가 충분하지 않습니다. 필요한 데이터 수: {forecast_days}, 실제 데이터 수: {exog_future.shape[0]}\")\n",
    "\n",
    "forecast = results.get_forecast(steps=forecast_days, exog=exog_future)\n",
    "predicted_mean = forecast.predicted_mean\n",
    "conf_int = forecast.conf_int()\n",
    "\n",
    "# 결정계수(R²) 계산 (예측 구간 내 실제값이 존재하는 경우에만 계산)\n",
    "if len(final_data[' pm25_seoul'].iloc[train_data.index[-1] + 1: train_data.index[-1] + 1 + forecast_days]) == forecast_days:\n",
    "    actual_values = final_data['pm25_seoul'].iloc[train_data.index[-1] + 1: train_data.index[-1] + 1 + forecast_days]\n",
    "    r_squared = r2_score(actual_values, predicted_mean)\n",
    "    print(f'결정계수 (R²): {r_squared:.4f}')\n",
    "else:\n",
    "    print('결정계수를 계산할 실제값 데이터가 부족합니다.')\n",
    "\n",
    "# 예측된 값 표시\n",
    "predicted_mean.head()\n"
   ]
  }
 ],
 "metadata": {
  "kernelspec": {
   "display_name": "py310",
   "language": "python",
   "name": "python3"
  },
  "language_info": {
   "codemirror_mode": {
    "name": "ipython",
    "version": 3
   },
   "file_extension": ".py",
   "mimetype": "text/x-python",
   "name": "python",
   "nbconvert_exporter": "python",
   "pygments_lexer": "ipython3",
   "version": "3.10.8"
  }
 },
 "nbformat": 4,
 "nbformat_minor": 2
}
